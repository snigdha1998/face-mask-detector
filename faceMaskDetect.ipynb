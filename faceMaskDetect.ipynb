{
  "nbformat": 4,
  "nbformat_minor": 0,
  "metadata": {
    "kernelspec": {
      "display_name": "Python 3",
      "language": "python",
      "name": "python3"
    },
    "language_info": {
      "codemirror_mode": {
        "name": "ipython",
        "version": 3
      },
      "file_extension": ".py",
      "mimetype": "text/x-python",
      "name": "python",
      "nbconvert_exporter": "python",
      "pygments_lexer": "ipython3",
      "version": "3.8.6"
    },
    "colab": {
      "name": "faceMaskDetect.ipynb",
      "provenance": [],
      "include_colab_link": true
    }
  },
  "cells": [
    {
      "cell_type": "markdown",
      "metadata": {
        "id": "view-in-github",
        "colab_type": "text"
      },
      "source": [
        "<a href=\"https://colab.research.google.com/github/snigdha1998/face-mask-detector/blob/main/faceMaskDetect.ipynb\" target=\"_parent\"><img src=\"https://colab.research.google.com/assets/colab-badge.svg\" alt=\"Open In Colab\"/></a>"
      ]
    },
    {
      "cell_type": "code",
      "metadata": {
        "id": "YtGqQAruQ8L6"
      },
      "source": [
        "import numpy as np\n",
        "import cv2\n",
        "import random"
      ],
      "execution_count": null,
      "outputs": []
    },
    {
      "cell_type": "code",
      "metadata": {
        "id": "9MyDuRaEQ8MB"
      },
      "source": [
        "#load cascade files\n",
        "face_cascade = cv2.CascadeClassifier('haarcascade_frontalface_default.xml')\n",
        "mouth_cascade = cv2.CascadeClassifier('haarcascade_mcs_mouth.xml')"
      ],
      "execution_count": null,
      "outputs": []
    },
    {
      "cell_type": "code",
      "metadata": {
        "id": "pX6FkXLdQ8MD"
      },
      "source": [
        "# Initialize\n",
        "font = cv2.FONT_HERSHEY_SIMPLEX\n",
        "WHITE = (255, 255, 255)\n",
        "RED = (0, 0, 255)\n",
        "BLUE=(255,0,0)\n",
        "thickness = 2\n",
        "fontSize=0.8"
      ],
      "execution_count": null,
      "outputs": []
    },
    {
      "cell_type": "code",
      "metadata": {
        "id": "Ath7W7QZQ8MD"
      },
      "source": [
        "# Read video\n",
        "cap = cv2.VideoCapture(0)"
      ],
      "execution_count": null,
      "outputs": []
    },
    {
      "cell_type": "code",
      "metadata": {
        "id": "n4BLQqm_Q8ME"
      },
      "source": [
        "while True:\n",
        "    # Get individual frame\n",
        "    ret, img = cap.read()\n",
        "    if ret==True:\n",
        "        # Convert Image into gray\n",
        "        gray = cv2.cvtColor(img, cv2.COLOR_BGR2GRAY)\n",
        "\n",
        "        # detect face\n",
        "        faces = face_cascade.detectMultiScale(gray, 1.1, 4)\n",
        "        \n",
        "        #if face detected\n",
        "        if(len(faces) >0):\n",
        "            # Draw rectangle on face\n",
        "            for (x, y, w, h) in faces:\n",
        "                cv2.rectangle(img, (x, y), (x + w, y + h), WHITE, thickness)\n",
        "                roi_gray = gray[y:y + h, x:x + w]\n",
        "                roi_color = img[y:y + h, x:x + w]\n",
        "\n",
        "                # Detect lips\n",
        "                mouth_boundary = mouth_cascade.detectMultiScale(gray, 1.5, 5)\n",
        "\n",
        "                # Face detected but Lips not detected which means person is wearing mask\n",
        "                if(len(mouth_boundary) == 0):\n",
        "                    cv2.putText(img, \"Safe\", (x+5,y+15), font, fontSize, BLUE, thickness, cv2.LINE_AA)\n",
        "                else:\n",
        "                    for (mx, my, mw, mh) in mouth_boundary:\n",
        "                        # Face and Lips are detected \n",
        "                        # Check if  lips coordinates are within face cordinates which `means lips prediction is true and\n",
        "                        # person is not waring mask\n",
        "                        if(y < my < y + h):\n",
        "                            cv2.putText(img, \"Danger!!!No Mask\", (mx,my), font, fontSize, RED, thickness, cv2.LINE_AA)\n",
        "                            break\n",
        "\n",
        "        # Show frame with results\n",
        "        cv2.imshow('Mask Detection', img)\n",
        "        # Press Q on keyboard to stop recording\n",
        "        if cv2.waitKey(25) == ord('q'):\n",
        "          break\n",
        "\n"
      ],
      "execution_count": null,
      "outputs": []
    },
    {
      "cell_type": "code",
      "metadata": {
        "id": "jRTQnBYFQ8MF"
      },
      "source": [
        "# Release video\n",
        "cap.release()\n",
        "cv2.destroyAllWindows()\n"
      ],
      "execution_count": null,
      "outputs": []
    }
  ]
}